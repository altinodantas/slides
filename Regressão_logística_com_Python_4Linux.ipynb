{
  "nbformat": 4,
  "nbformat_minor": 0,
  "metadata": {
    "colab": {
      "name": "Regressão_logística_com_Python - 4Linux.ipynb",
      "provenance": [],
      "collapsed_sections": [],
      "include_colab_link": true
    },
    "kernelspec": {
      "display_name": "Python 3",
      "language": "python",
      "name": "python3"
    }
  },
  "cells": [
    {
      "cell_type": "markdown",
      "metadata": {
        "id": "view-in-github",
        "colab_type": "text"
      },
      "source": [
        "<a href=\"https://colab.research.google.com/github/altinodantas/slides/blob/main/Regress%C3%A3o_log%C3%ADstica_com_Python_4Linux.ipynb\" target=\"_parent\"><img src=\"https://colab.research.google.com/assets/colab-badge.svg\" alt=\"Open In Colab\"/></a>"
      ]
    },
    {
      "cell_type": "markdown",
      "metadata": {
        "id": "G7lQxsCw40fI"
      },
      "source": [
        "# Regressão logística com Python\n",
        "\n",
        "Para esta aula, estaremos trabalhando com o [Conjunto de dados do Titanic da Kaggle](https://www.kaggle.com/c/titanic). Este é um conjunto de dados muito famoso e muitas vezes é o primeiro passo em Machine Learning.\n",
        "\n",
        "Vamos tentar montar um algoritmo de classificação (sobrevivente ou falecido) utilizando regressão logística no Python.\n",
        "\n",
        "Usaremos uma versão \"semi-limpa\" do conjunto de dados do Titanic. Se você usar o conjunto de dados hospedado diretamente no Kaggle, talvez seja necessário fazer uma limpeza adicional não mostrada neste notebook.\n",
        "\n",
        "## Importar bibliotecas\n",
        "Vamos importar algumas bibliotecas para começar!"
      ]
    },
    {
      "cell_type": "code",
      "metadata": {
        "id": "FEVbQbFo40fP"
      },
      "source": [
        "import pandas as pd\n",
        "import numpy as np\n",
        "import matplotlib.pyplot as plt\n",
        "import seaborn as sns\n",
        "%matplotlib inline"
      ],
      "execution_count": null,
      "outputs": []
    },
    {
      "cell_type": "code",
      "metadata": {
        "id": "HizwomhG4-ov",
        "colab": {
          "base_uri": "https://localhost:8080/"
        },
        "outputId": "206b6233-a0b2-4e5c-e308-73c8682fab07"
      },
      "source": [
        "! git clone https://github.com/leonardoamorim/datasets"
      ],
      "execution_count": null,
      "outputs": [
        {
          "output_type": "stream",
          "text": [
            "Cloning into 'datasets'...\n",
            "remote: Enumerating objects: 12, done.\u001b[K\n",
            "remote: Counting objects: 100% (3/3), done.\u001b[K\n",
            "remote: Compressing objects: 100% (3/3), done.\u001b[K\n",
            "remote: Total 12 (delta 0), reused 0 (delta 0), pack-reused 9\u001b[K\n",
            "Unpacking objects: 100% (12/12), done.\n"
          ],
          "name": "stdout"
        }
      ]
    },
    {
      "cell_type": "markdown",
      "metadata": {
        "id": "YeMt5e4040fc"
      },
      "source": [
        "## Os dados\n",
        "\n",
        "Vamos começar lendo o arquivo titanic_train.csv em um DataFrame pandas."
      ]
    },
    {
      "cell_type": "code",
      "metadata": {
        "id": "A-VymCsD40fe"
      },
      "source": [
        "train = pd.read_csv('datasets/titanic_train.csv')"
      ],
      "execution_count": null,
      "outputs": []
    },
    {
      "cell_type": "code",
      "metadata": {
        "id": "YK67A95n40fo"
      },
      "source": [
        "train.head()"
      ],
      "execution_count": null,
      "outputs": []
    },
    {
      "cell_type": "code",
      "metadata": {
        "id": "DqUbhX8qcLTL",
        "colab": {
          "base_uri": "https://localhost:8080/"
        },
        "outputId": "67041162-b7cc-44f7-b2cf-49376eaf7183"
      },
      "source": [
        "train['Embarked']"
      ],
      "execution_count": null,
      "outputs": [
        {
          "output_type": "execute_result",
          "data": {
            "text/plain": [
              "0      S\n",
              "1      C\n",
              "2      S\n",
              "3      S\n",
              "4      S\n",
              "      ..\n",
              "886    S\n",
              "887    S\n",
              "888    S\n",
              "889    C\n",
              "890    Q\n",
              "Name: Embarked, Length: 891, dtype: object"
            ]
          },
          "metadata": {
            "tags": []
          },
          "execution_count": 8
        }
      ]
    },
    {
      "cell_type": "code",
      "metadata": {
        "id": "_VCCZE06ENR2",
        "colab": {
          "base_uri": "https://localhost:8080/"
        },
        "outputId": "cbc8a05d-d304-4c0d-c74d-7e904d1928a7"
      },
      "source": [
        "! wc -l datasets/titanic_train.csv"
      ],
      "execution_count": null,
      "outputs": [
        {
          "output_type": "stream",
          "text": [
            "892 datasets/titanic_train.csv\n"
          ],
          "name": "stdout"
        }
      ]
    },
    {
      "cell_type": "code",
      "metadata": {
        "id": "8TmPchKEWzn0"
      },
      "source": [
        "train['Embarked'].value_counts().plot.bar()"
      ],
      "execution_count": null,
      "outputs": []
    },
    {
      "cell_type": "code",
      "metadata": {
        "id": "BWirQNSIMYQP"
      },
      "source": [
        "train.columns"
      ],
      "execution_count": null,
      "outputs": []
    },
    {
      "cell_type": "code",
      "metadata": {
        "id": "94TI4b-pMnGC"
      },
      "source": [
        "train.info()"
      ],
      "execution_count": null,
      "outputs": []
    },
    {
      "cell_type": "markdown",
      "metadata": {
        "id": "zk6cbkGGaY4L"
      },
      "source": [
        "Survived (Sobreviveu): 0 = Não, 1 = Sim\n",
        "\n",
        "Pclass (Classe): Classe de ingresso 1 = 1º, 2 = 2º, 3 = 3º\n",
        "\n",
        "Sex (Sexo): Sexo do passageiro\n",
        "\n",
        "Age (Idade): Idade em anos\n",
        "\n",
        "Sibsp: Quantidade de irmãos / cônjuges a bordo do Titanic\n",
        "\n",
        "Parch: Quantidade de pais / crianças a bordo do Titanic\n",
        "\n",
        "Ticket (Bilhete): Número do bilhete de embarque\n",
        "\n",
        "Fare (Tarifa): Tarifa paga pelo Passageiro\n",
        "\n",
        "Cabin (Cabine): Número de cabine\n",
        "\n",
        "Embarked (Embarque): Porto de Embarque (C = Cherbourg, Q=Queenstown, S = Southampton)"
      ]
    },
    {
      "cell_type": "markdown",
      "metadata": {
        "id": "Mc7WrHbt40f0"
      },
      "source": [
        "# Análise exploratória de dados \n",
        "\n",
        "Vamos começar algumas análises de dados exploratórios. Começaremos por verificar os dados que faltam!\n",
        "\n",
        "## Dados ausentes\n",
        "\n",
        "Podemos usar seaborn para criar um mapa de calor simples para ver onde estamos perdendo dados!"
      ]
    },
    {
      "cell_type": "code",
      "metadata": {
        "id": "B8I26J6h40f2"
      },
      "source": [
        "sns.heatmap(train.isnull(),yticklabels=False,cbar=False,cmap='cividis');"
      ],
      "execution_count": null,
      "outputs": []
    },
    {
      "cell_type": "markdown",
      "metadata": {
        "id": "IRed9V4pKLKi"
      },
      "source": [
        ""
      ]
    },
    {
      "cell_type": "markdown",
      "metadata": {
        "id": "wN02SoYu40f-"
      },
      "source": [
        "Aproximadamente 20% dos dados de idade estão faltando. A proporção de idade que falta é provavelmente pequena o suficiente para que possamos fazer uma substituição razoável com alguma forma de imputação de dados. Olhando para a coluna Cabin, porém, parece que estamos perdendo muito desses dados para fazermos o mesmo. Provavelmente vamos descartar isso mais tarde ou mudá-lo para outro \"Cabin Conhecido: 1 ou 0\"\n",
        "\n",
        "Continuemos visualizando mais alguns dos dados!"
      ]
    },
    {
      "cell_type": "code",
      "metadata": {
        "id": "wvMR7nXc40gA"
      },
      "source": [
        "sns.set_style('whitegrid')\n",
        "sns.countplot(x='Survived',data=train,palette='RdBu_r')"
      ],
      "execution_count": null,
      "outputs": []
    },
    {
      "cell_type": "code",
      "metadata": {
        "id": "ImnmZPBo40gK"
      },
      "source": [
        "sns.set_style('whitegrid')\n",
        "sns.countplot(x='Survived',hue='Sex',data=train,palette='RdBu_r')"
      ],
      "execution_count": null,
      "outputs": []
    },
    {
      "cell_type": "code",
      "metadata": {
        "id": "-qVM1jot40gX"
      },
      "source": [
        "sns.set_style('whitegrid')\n",
        "sns.countplot(x='Survived',hue='Pclass',data=train,palette='rainbow')"
      ],
      "execution_count": null,
      "outputs": []
    },
    {
      "cell_type": "code",
      "metadata": {
        "id": "nXlbBEce40gk"
      },
      "source": [
        "train['Age'].hist(bins=30,color='darkred',alpha=0.7)"
      ],
      "execution_count": null,
      "outputs": []
    },
    {
      "cell_type": "code",
      "metadata": {
        "id": "F6NIej4P40gz"
      },
      "source": [
        "sns.countplot(x='SibSp',data=train)"
      ],
      "execution_count": null,
      "outputs": []
    },
    {
      "cell_type": "code",
      "metadata": {
        "id": "CAv0uGbC40g7"
      },
      "source": [
        "train['Fare'].hist(color='green',bins=40,figsize=(8,4))"
      ],
      "execution_count": null,
      "outputs": []
    },
    {
      "cell_type": "markdown",
      "metadata": {
        "id": "7s3m5ZyL40hB"
      },
      "source": [
        "___\n",
        "## Limpando os dados\n",
        "\n",
        "Queremos preencher dados de idade faltantes, em vez de simplesmente deixar cair as linhas de dados de idade que faltam. Uma maneira de fazer isso é preenchendo a idade média de todos os passageiros (imputação).\n",
        "No entanto, podemos ser mais inteligentes sobre isso e verificar a idade média pela classe de passageiros. Por exemplo:\n"
      ]
    },
    {
      "cell_type": "code",
      "metadata": {
        "id": "z50mkfwT40hE"
      },
      "source": [
        "plt.figure(figsize=(12, 7))\n",
        "sns.boxplot(x='Pclass',y='Age',data=train,palette='winter')"
      ],
      "execution_count": null,
      "outputs": []
    },
    {
      "cell_type": "markdown",
      "metadata": {
        "id": "SGl-S5NZ40hL"
      },
      "source": [
        "Podemos ver os passageiros presumidamente mais ricos (que estão nas classes superiores) tendem a ser mais velhos, o que faz sentido. Usaremos esses valores de idade média para imputar com base em Pclass for Age."
      ]
    },
    {
      "cell_type": "code",
      "metadata": {
        "id": "chjmnV2g40hN"
      },
      "source": [
        "def impute_age(cols):\n",
        "    Age = cols[0]\n",
        "    Pclass = cols[1]\n",
        "    \n",
        "    if pd.isnull(Age):\n",
        "\n",
        "        if Pclass == 1:\n",
        "            return 37\n",
        "\n",
        "        elif Pclass == 2:\n",
        "            return 29\n",
        "\n",
        "        else:\n",
        "            return 24\n",
        "\n",
        "    else:\n",
        "        return Age"
      ],
      "execution_count": null,
      "outputs": []
    },
    {
      "cell_type": "markdown",
      "metadata": {
        "id": "fMrf-F9140hY"
      },
      "source": [
        "Agora aplique essa função!"
      ]
    },
    {
      "cell_type": "code",
      "metadata": {
        "id": "QaQiaOFz40ha"
      },
      "source": [
        "train['Age'] = train[['Age','Pclass']].apply(impute_age, axis=1)"
      ],
      "execution_count": null,
      "outputs": []
    },
    {
      "cell_type": "markdown",
      "metadata": {
        "id": "HGlYGeUr40hk"
      },
      "source": [
        "Agora vamos verificar esse mapa de calor novamente!"
      ]
    },
    {
      "cell_type": "code",
      "metadata": {
        "id": "e2DzBz7k40hl"
      },
      "source": [
        "sns.heatmap(train.isnull(),yticklabels=False,cbar=False,cmap='viridis')"
      ],
      "execution_count": null,
      "outputs": []
    },
    {
      "cell_type": "code",
      "metadata": {
        "colab": {
          "base_uri": "https://localhost:8080/"
        },
        "id": "sQjbW_gCMDJb",
        "outputId": "166536aa-2e58-42e2-c1ff-f12390436850"
      },
      "source": [
        "train.columns"
      ],
      "execution_count": null,
      "outputs": [
        {
          "output_type": "execute_result",
          "data": {
            "text/plain": [
              "Index(['PassengerId', 'Survived', 'Pclass', 'Name', 'Sex', 'Age', 'SibSp',\n",
              "       'Parch', 'Ticket', 'Fare', 'Cabin', 'Embarked'],\n",
              "      dtype='object')"
            ]
          },
          "metadata": {
            "tags": []
          },
          "execution_count": 20
        }
      ]
    },
    {
      "cell_type": "markdown",
      "metadata": {
        "id": "TcE8rLfE40hv"
      },
      "source": [
        "Ótimo! Vamos seguir em frente e deletar a coluna Cabin e a linha em Embarked que falta dado."
      ]
    },
    {
      "cell_type": "code",
      "metadata": {
        "id": "J1CmcY0b40hz"
      },
      "source": [
        "train.drop('Cabin',axis=1,inplace=True)"
      ],
      "execution_count": null,
      "outputs": []
    },
    {
      "cell_type": "code",
      "metadata": {
        "colab": {
          "base_uri": "https://localhost:8080/"
        },
        "id": "plHk677vX22O",
        "outputId": "2b059e61-e2b6-40dc-db71-c27a98742055"
      },
      "source": [
        "train['Embarked'].value_counts()"
      ],
      "execution_count": null,
      "outputs": [
        {
          "output_type": "execute_result",
          "data": {
            "text/plain": [
              "S    644\n",
              "C    168\n",
              "Q     77\n",
              "Name: Embarked, dtype: int64"
            ]
          },
          "metadata": {
            "tags": []
          },
          "execution_count": 22
        }
      ]
    },
    {
      "cell_type": "code",
      "metadata": {
        "id": "V0TXxZTf40h5"
      },
      "source": [
        "train.head()"
      ],
      "execution_count": null,
      "outputs": []
    },
    {
      "cell_type": "code",
      "metadata": {
        "id": "MO9r4DaK40h-"
      },
      "source": [
        "train.dropna(inplace=True)"
      ],
      "execution_count": null,
      "outputs": []
    },
    {
      "cell_type": "code",
      "metadata": {
        "colab": {
          "base_uri": "https://localhost:8080/"
        },
        "id": "uytqGBEuYDtN",
        "outputId": "bf0462e8-81cc-4d79-9930-f9835b9bb627"
      },
      "source": [
        "train['Embarked'].value_counts()"
      ],
      "execution_count": null,
      "outputs": [
        {
          "output_type": "execute_result",
          "data": {
            "text/plain": [
              "S    644\n",
              "C    168\n",
              "Q     77\n",
              "Name: Embarked, dtype: int64"
            ]
          },
          "metadata": {
            "tags": []
          },
          "execution_count": 25
        }
      ]
    },
    {
      "cell_type": "markdown",
      "metadata": {
        "id": "e405N2Fh40iE"
      },
      "source": [
        "## Convertendo recursos categóricos\n",
        "\n",
        "Precisamos converter características categóricas em variáveis dummy usando pandas! Caso contrário, nosso algoritmo de Machine Learning não será capaz de aceitar esses recursos diretamente como entradas."
      ]
    },
    {
      "cell_type": "code",
      "metadata": {
        "id": "X_mjdvL140iF"
      },
      "source": [
        "train.info()"
      ],
      "execution_count": null,
      "outputs": []
    },
    {
      "cell_type": "code",
      "metadata": {
        "id": "Q73e0Uwn40iK"
      },
      "source": [
        "sex = pd.get_dummies(train['Sex'],drop_first=True)  # drop_first=True > Para evitar a multi-colinearidade\n",
        "embark = pd.get_dummies(train['Embarked'],drop_first=True)"
      ],
      "execution_count": null,
      "outputs": []
    },
    {
      "cell_type": "code",
      "metadata": {
        "id": "lYyVtGOCYLB0"
      },
      "source": [
        "embark"
      ],
      "execution_count": null,
      "outputs": []
    },
    {
      "cell_type": "code",
      "metadata": {
        "id": "-TCKML7X40iU"
      },
      "source": [
        "train.drop(['Sex','Embarked','Name','Ticket'],axis=1,inplace=True)"
      ],
      "execution_count": null,
      "outputs": []
    },
    {
      "cell_type": "code",
      "metadata": {
        "id": "xy9SFzjzWkGe"
      },
      "source": [
        "sex"
      ],
      "execution_count": null,
      "outputs": []
    },
    {
      "cell_type": "code",
      "metadata": {
        "id": "v9XmpJ0HyCsx"
      },
      "source": [
        "train.head()"
      ],
      "execution_count": null,
      "outputs": []
    },
    {
      "cell_type": "code",
      "metadata": {
        "id": "PAW1w98a40ic"
      },
      "source": [
        "train = pd.concat([train,sex,embark],axis=1)"
      ],
      "execution_count": null,
      "outputs": []
    },
    {
      "cell_type": "code",
      "metadata": {
        "id": "8Jjeymar40ig"
      },
      "source": [
        "train.head()"
      ],
      "execution_count": null,
      "outputs": []
    },
    {
      "cell_type": "markdown",
      "metadata": {
        "id": "o_mLvaLa2xVf"
      },
      "source": [
        ""
      ]
    },
    {
      "cell_type": "markdown",
      "metadata": {
        "id": "dWbrEm7G40im"
      },
      "source": [
        "Ótimo! Nossos dados estão prontos para o nosso modelo\n",
        "\n",
        "# Construindo um modelo de Regressão Logística\n",
        "\n",
        "Vamos começar dividindo nossos dados em um conjunto de treinamento e conjunto de testes (há outro arquivo titanic_test.csv que você pode usar ao invés, caso queira usar todos esses dados para treinar).\n",
        "\n",
        "## Divisão treino-teste"
      ]
    },
    {
      "cell_type": "code",
      "metadata": {
        "id": "sOwkXyGX40io"
      },
      "source": [
        "from sklearn.model_selection import train_test_split"
      ],
      "execution_count": null,
      "outputs": []
    },
    {
      "cell_type": "code",
      "metadata": {
        "id": "kozSTJor40iq"
      },
      "source": [
        "X_train, X_test, y_train, y_test = train_test_split(train.drop('Survived',axis=1), \n",
        "                                                    train['Survived'], test_size=0.30, \n",
        "                                                    random_state=101)"
      ],
      "execution_count": null,
      "outputs": []
    },
    {
      "cell_type": "code",
      "metadata": {
        "id": "e7xDHROsUuiW"
      },
      "source": [
        "X_test"
      ],
      "execution_count": null,
      "outputs": []
    },
    {
      "cell_type": "markdown",
      "metadata": {
        "id": "1pgsPA1X40iu"
      },
      "source": [
        "## Treinamento e inferência"
      ]
    },
    {
      "cell_type": "code",
      "metadata": {
        "id": "ygRH6NPK40iw"
      },
      "source": [
        "from sklearn.linear_model import LogisticRegression"
      ],
      "execution_count": null,
      "outputs": []
    },
    {
      "cell_type": "code",
      "metadata": {
        "id": "ThD0gX6l40i0",
        "colab": {
          "base_uri": "https://localhost:8080/"
        },
        "outputId": "5c943c96-cd17-4218-bcb7-e9c947b3a43b"
      },
      "source": [
        "logmodel = LogisticRegression(max_iter=500)\n",
        "logmodel.fit(X_train,y_train)"
      ],
      "execution_count": null,
      "outputs": [
        {
          "output_type": "execute_result",
          "data": {
            "text/plain": [
              "LogisticRegression(C=1.0, class_weight=None, dual=False, fit_intercept=True,\n",
              "                   intercept_scaling=1, l1_ratio=None, max_iter=500,\n",
              "                   multi_class='auto', n_jobs=None, penalty='l2',\n",
              "                   random_state=None, solver='lbfgs', tol=0.0001, verbose=0,\n",
              "                   warm_start=False)"
            ]
          },
          "metadata": {
            "tags": []
          },
          "execution_count": 38
        }
      ]
    },
    {
      "cell_type": "code",
      "metadata": {
        "id": "0VREiQns40i3"
      },
      "source": [
        "predictions = logmodel.predict(X_test)"
      ],
      "execution_count": null,
      "outputs": []
    },
    {
      "cell_type": "markdown",
      "metadata": {
        "id": "lTz6YvOo40i6"
      },
      "source": [
        "Vamos seguir em frente para avaliar o nosso modelo!"
      ]
    },
    {
      "cell_type": "markdown",
      "metadata": {
        "id": "oUBjLLr540i8"
      },
      "source": [
        "## Avaliação"
      ]
    },
    {
      "cell_type": "markdown",
      "metadata": {
        "id": "7BX9dvkE40i-"
      },
      "source": [
        "Podemos verificar a precisão, o recall e a pontuação f1 usando o relatório de classificação!"
      ]
    },
    {
      "cell_type": "code",
      "metadata": {
        "id": "UVvC1oA940i_"
      },
      "source": [
        "from sklearn.metrics import classification_report"
      ],
      "execution_count": null,
      "outputs": []
    },
    {
      "cell_type": "code",
      "metadata": {
        "id": "MxxEu7J640jG"
      },
      "source": [
        "print(classification_report(y_test,predictions))"
      ],
      "execution_count": null,
      "outputs": []
    },
    {
      "cell_type": "markdown",
      "metadata": {
        "id": "pdi5hbKX40jN"
      },
      "source": [
        "Não foi tão ruim! Você pode querer explorar outros recursos no outro arquivo titanic_text.csv. Algumas sugestões:\n",
        "\n",
        "* Tente pegar o título (Dr., Sr., Sra., Etc.) do nome como parâmetro.\n",
        "* Talvez a cabine possa ser uma característica.\n",
        "* Existe alguma informação que você pode obter do bilhete?"
      ]
    },
    {
      "cell_type": "code",
      "metadata": {
        "id": "dZ5aqtT140jO",
        "colab": {
          "base_uri": "https://localhost:8080/"
        },
        "outputId": "643ff596-f076-4b24-8164-1ace73eac7ef"
      },
      "source": [
        "logmodel.predict([[5,\t3, 35.0, 0, 0, 8.0500, 1,\t0,\t1]])\n",
        "# PassengerId\tPclass Age SibSp Parch Fare\tmale Q S"
      ],
      "execution_count": null,
      "outputs": [
        {
          "output_type": "execute_result",
          "data": {
            "text/plain": [
              "array([0])"
            ]
          },
          "metadata": {
            "tags": []
          },
          "execution_count": 43
        }
      ]
    },
    {
      "cell_type": "markdown",
      "metadata": {
        "id": "6RAplk_4tn32"
      },
      "source": [
        "## Testando com o KNN:"
      ]
    },
    {
      "cell_type": "code",
      "metadata": {
        "id": "CQ1PGs6cAJF0"
      },
      "source": [
        "from sklearn.neighbors import KNeighborsClassifier\n",
        "knn = KNeighborsClassifier(n_neighbors=15)"
      ],
      "execution_count": null,
      "outputs": []
    },
    {
      "cell_type": "code",
      "metadata": {
        "id": "f5WDv4vVDnam",
        "colab": {
          "base_uri": "https://localhost:8080/"
        },
        "outputId": "076f34a1-32aa-4dd5-81a4-07f23349cbcd"
      },
      "source": [
        "knn.fit(X_train,y_train)"
      ],
      "execution_count": null,
      "outputs": [
        {
          "output_type": "execute_result",
          "data": {
            "text/plain": [
              "KNeighborsClassifier(algorithm='auto', leaf_size=30, metric='minkowski',\n",
              "                     metric_params=None, n_jobs=None, n_neighbors=15, p=2,\n",
              "                     weights='uniform')"
            ]
          },
          "metadata": {
            "tags": []
          },
          "execution_count": 45
        }
      ]
    },
    {
      "cell_type": "code",
      "metadata": {
        "id": "M77gKrFvDvzv"
      },
      "source": [
        "predictions = knn.predict(X_test)"
      ],
      "execution_count": null,
      "outputs": []
    },
    {
      "cell_type": "code",
      "metadata": {
        "id": "VNSE0MU8D6XO"
      },
      "source": [
        "print(classification_report(y_test,predictions))"
      ],
      "execution_count": null,
      "outputs": []
    }
  ]
}